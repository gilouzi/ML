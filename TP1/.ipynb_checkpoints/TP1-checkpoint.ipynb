{
 "cells": [
  {
   "cell_type": "markdown",
   "metadata": {},
   "source": [
    "# Trabalho Prático 1 - Aprendizado de Máquina\n",
    "#### Giovanna Louzi Bellonia - 2017086015"
   ]
  },
  {
   "cell_type": "code",
   "execution_count": 1,
   "metadata": {},
   "outputs": [],
   "source": [
    "import numpy as np\n",
    "import pandas as pd\n",
    "import matplotlib.pyplot as plt\n",
    "\n",
    "from sklearn import preprocessing\n",
    "from sklearn.metrics import accuracy_score, classification_report, precision_score, recall_score\n",
    "from sklearn.model_selection import KFold\n",
    "from sklearn.naive_bayes import GaussianNB\n",
    "from sklearn.tree import DecisionTreeClassifier\n",
    "from sklearn.svm import SVC\n",
    "from sklearn.tree import export_text"
   ]
  },
  {
   "cell_type": "markdown",
   "metadata": {},
   "source": [
    "# 1. Leitura e pré-processamento dos dados"
   ]
  },
  {
   "cell_type": "markdown",
   "metadata": {},
   "source": [
    "Primeiro foi lido o dataset e imprimido parte dele para uma visão geral dos dados"
   ]
  },
  {
   "cell_type": "code",
   "execution_count": 2,
   "metadata": {},
   "outputs": [
    {
     "data": {
      "text/html": [
       "<div>\n",
       "<style scoped>\n",
       "    .dataframe tbody tr th:only-of-type {\n",
       "        vertical-align: middle;\n",
       "    }\n",
       "\n",
       "    .dataframe tbody tr th {\n",
       "        vertical-align: top;\n",
       "    }\n",
       "\n",
       "    .dataframe thead th {\n",
       "        text-align: right;\n",
       "    }\n",
       "</style>\n",
       "<table border=\"1\" class=\"dataframe\">\n",
       "  <thead>\n",
       "    <tr style=\"text-align: right;\">\n",
       "      <th></th>\n",
       "      <th>kepoi_name</th>\n",
       "      <th>koi_disposition</th>\n",
       "      <th>koi_period</th>\n",
       "      <th>koi_impact</th>\n",
       "      <th>koi_duration</th>\n",
       "      <th>koi_depth</th>\n",
       "      <th>koi_ror</th>\n",
       "      <th>koi_srho</th>\n",
       "      <th>koi_prad</th>\n",
       "      <th>koi_sma</th>\n",
       "      <th>...</th>\n",
       "      <th>koi_fwm_srao</th>\n",
       "      <th>koi_fwm_sdeco</th>\n",
       "      <th>koi_fwm_prao</th>\n",
       "      <th>koi_fwm_pdeco</th>\n",
       "      <th>koi_dicco_mra</th>\n",
       "      <th>koi_dicco_mdec</th>\n",
       "      <th>koi_dicco_msky</th>\n",
       "      <th>koi_dikco_mra</th>\n",
       "      <th>koi_dikco_mdec</th>\n",
       "      <th>koi_dikco_msky</th>\n",
       "    </tr>\n",
       "  </thead>\n",
       "  <tbody>\n",
       "    <tr>\n",
       "      <th>0</th>\n",
       "      <td>K00752.01</td>\n",
       "      <td>CONFIRMED</td>\n",
       "      <td>9.48804</td>\n",
       "      <td>0.146</td>\n",
       "      <td>2.95750</td>\n",
       "      <td>615.8</td>\n",
       "      <td>0.02234</td>\n",
       "      <td>3.20796</td>\n",
       "      <td>2.26</td>\n",
       "      <td>0.0853</td>\n",
       "      <td>...</td>\n",
       "      <td>0.430</td>\n",
       "      <td>0.940</td>\n",
       "      <td>-0.00020</td>\n",
       "      <td>-0.00055</td>\n",
       "      <td>-0.010</td>\n",
       "      <td>0.200</td>\n",
       "      <td>0.200</td>\n",
       "      <td>0.080</td>\n",
       "      <td>0.310</td>\n",
       "      <td>0.320</td>\n",
       "    </tr>\n",
       "    <tr>\n",
       "      <th>1</th>\n",
       "      <td>K00752.02</td>\n",
       "      <td>CONFIRMED</td>\n",
       "      <td>54.41838</td>\n",
       "      <td>0.586</td>\n",
       "      <td>4.50700</td>\n",
       "      <td>874.8</td>\n",
       "      <td>0.02795</td>\n",
       "      <td>3.02368</td>\n",
       "      <td>2.83</td>\n",
       "      <td>0.2734</td>\n",
       "      <td>...</td>\n",
       "      <td>-0.630</td>\n",
       "      <td>1.230</td>\n",
       "      <td>0.00066</td>\n",
       "      <td>-0.00105</td>\n",
       "      <td>0.390</td>\n",
       "      <td>0.000</td>\n",
       "      <td>0.390</td>\n",
       "      <td>0.490</td>\n",
       "      <td>0.120</td>\n",
       "      <td>0.500</td>\n",
       "    </tr>\n",
       "    <tr>\n",
       "      <th>2</th>\n",
       "      <td>K00754.01</td>\n",
       "      <td>FALSE POSITIVE</td>\n",
       "      <td>1.73695</td>\n",
       "      <td>1.276</td>\n",
       "      <td>2.40641</td>\n",
       "      <td>8079.2</td>\n",
       "      <td>0.38739</td>\n",
       "      <td>0.22080</td>\n",
       "      <td>33.46</td>\n",
       "      <td>0.0267</td>\n",
       "      <td>...</td>\n",
       "      <td>-0.111</td>\n",
       "      <td>0.002</td>\n",
       "      <td>0.00302</td>\n",
       "      <td>-0.00142</td>\n",
       "      <td>-0.249</td>\n",
       "      <td>0.147</td>\n",
       "      <td>0.289</td>\n",
       "      <td>-0.257</td>\n",
       "      <td>0.099</td>\n",
       "      <td>0.276</td>\n",
       "    </tr>\n",
       "    <tr>\n",
       "      <th>3</th>\n",
       "      <td>K00755.01</td>\n",
       "      <td>CONFIRMED</td>\n",
       "      <td>2.52559</td>\n",
       "      <td>0.701</td>\n",
       "      <td>1.65450</td>\n",
       "      <td>603.3</td>\n",
       "      <td>0.02406</td>\n",
       "      <td>1.98635</td>\n",
       "      <td>2.75</td>\n",
       "      <td>0.0374</td>\n",
       "      <td>...</td>\n",
       "      <td>-0.010</td>\n",
       "      <td>0.230</td>\n",
       "      <td>0.00008</td>\n",
       "      <td>-0.00007</td>\n",
       "      <td>0.030</td>\n",
       "      <td>-0.090</td>\n",
       "      <td>0.100</td>\n",
       "      <td>0.070</td>\n",
       "      <td>0.020</td>\n",
       "      <td>0.070</td>\n",
       "    </tr>\n",
       "    <tr>\n",
       "      <th>4</th>\n",
       "      <td>K00114.01</td>\n",
       "      <td>FALSE POSITIVE</td>\n",
       "      <td>7.36179</td>\n",
       "      <td>1.169</td>\n",
       "      <td>5.02200</td>\n",
       "      <td>233.7</td>\n",
       "      <td>0.18339</td>\n",
       "      <td>0.00485</td>\n",
       "      <td>39.21</td>\n",
       "      <td>0.0820</td>\n",
       "      <td>...</td>\n",
       "      <td>-13.450</td>\n",
       "      <td>24.090</td>\n",
       "      <td>0.00303</td>\n",
       "      <td>-0.00555</td>\n",
       "      <td>-4.506</td>\n",
       "      <td>7.710</td>\n",
       "      <td>8.930</td>\n",
       "      <td>-4.537</td>\n",
       "      <td>7.713</td>\n",
       "      <td>8.948</td>\n",
       "    </tr>\n",
       "  </tbody>\n",
       "</table>\n",
       "<p>5 rows × 43 columns</p>\n",
       "</div>"
      ],
      "text/plain": [
       "  kepoi_name koi_disposition  koi_period  koi_impact  koi_duration  koi_depth  \\\n",
       "0  K00752.01       CONFIRMED     9.48804       0.146       2.95750      615.8   \n",
       "1  K00752.02       CONFIRMED    54.41838       0.586       4.50700      874.8   \n",
       "2  K00754.01  FALSE POSITIVE     1.73695       1.276       2.40641     8079.2   \n",
       "3  K00755.01       CONFIRMED     2.52559       0.701       1.65450      603.3   \n",
       "4  K00114.01  FALSE POSITIVE     7.36179       1.169       5.02200      233.7   \n",
       "\n",
       "   koi_ror  koi_srho  koi_prad  koi_sma  ...  koi_fwm_srao  koi_fwm_sdeco  \\\n",
       "0  0.02234   3.20796      2.26   0.0853  ...         0.430          0.940   \n",
       "1  0.02795   3.02368      2.83   0.2734  ...        -0.630          1.230   \n",
       "2  0.38739   0.22080     33.46   0.0267  ...        -0.111          0.002   \n",
       "3  0.02406   1.98635      2.75   0.0374  ...        -0.010          0.230   \n",
       "4  0.18339   0.00485     39.21   0.0820  ...       -13.450         24.090   \n",
       "\n",
       "   koi_fwm_prao  koi_fwm_pdeco  koi_dicco_mra  koi_dicco_mdec  koi_dicco_msky  \\\n",
       "0      -0.00020       -0.00055         -0.010           0.200           0.200   \n",
       "1       0.00066       -0.00105          0.390           0.000           0.390   \n",
       "2       0.00302       -0.00142         -0.249           0.147           0.289   \n",
       "3       0.00008       -0.00007          0.030          -0.090           0.100   \n",
       "4       0.00303       -0.00555         -4.506           7.710           8.930   \n",
       "\n",
       "   koi_dikco_mra  koi_dikco_mdec  koi_dikco_msky  \n",
       "0          0.080           0.310           0.320  \n",
       "1          0.490           0.120           0.500  \n",
       "2         -0.257           0.099           0.276  \n",
       "3          0.070           0.020           0.070  \n",
       "4         -4.537           7.713           8.948  \n",
       "\n",
       "[5 rows x 43 columns]"
      ]
     },
     "execution_count": 2,
     "metadata": {},
     "output_type": "execute_result"
    }
   ],
   "source": [
    "df = pd.read_csv('koi_data.csv')\n",
    "df.head()"
   ]
  },
  {
   "cell_type": "markdown",
   "metadata": {},
   "source": [
    "## 1.1 Conversão dos dados\n",
    "O atributo `koi_disposition` foi transformado de categórico para numérico, com a mudança dos valores que eram `CONFIRMED` para 1 e `FALSE POSITIVE` para -1."
   ]
  },
  {
   "cell_type": "code",
   "execution_count": 3,
   "metadata": {},
   "outputs": [
    {
     "data": {
      "text/html": [
       "<div>\n",
       "<style scoped>\n",
       "    .dataframe tbody tr th:only-of-type {\n",
       "        vertical-align: middle;\n",
       "    }\n",
       "\n",
       "    .dataframe tbody tr th {\n",
       "        vertical-align: top;\n",
       "    }\n",
       "\n",
       "    .dataframe thead th {\n",
       "        text-align: right;\n",
       "    }\n",
       "</style>\n",
       "<table border=\"1\" class=\"dataframe\">\n",
       "  <thead>\n",
       "    <tr style=\"text-align: right;\">\n",
       "      <th></th>\n",
       "      <th>kepoi_name</th>\n",
       "      <th>koi_disposition</th>\n",
       "      <th>koi_period</th>\n",
       "      <th>koi_impact</th>\n",
       "      <th>koi_duration</th>\n",
       "      <th>koi_depth</th>\n",
       "      <th>koi_ror</th>\n",
       "      <th>koi_srho</th>\n",
       "      <th>koi_prad</th>\n",
       "      <th>koi_sma</th>\n",
       "      <th>...</th>\n",
       "      <th>koi_fwm_srao</th>\n",
       "      <th>koi_fwm_sdeco</th>\n",
       "      <th>koi_fwm_prao</th>\n",
       "      <th>koi_fwm_pdeco</th>\n",
       "      <th>koi_dicco_mra</th>\n",
       "      <th>koi_dicco_mdec</th>\n",
       "      <th>koi_dicco_msky</th>\n",
       "      <th>koi_dikco_mra</th>\n",
       "      <th>koi_dikco_mdec</th>\n",
       "      <th>koi_dikco_msky</th>\n",
       "    </tr>\n",
       "  </thead>\n",
       "  <tbody>\n",
       "    <tr>\n",
       "      <th>0</th>\n",
       "      <td>K00752.01</td>\n",
       "      <td>1</td>\n",
       "      <td>9.48804</td>\n",
       "      <td>0.146</td>\n",
       "      <td>2.95750</td>\n",
       "      <td>615.8</td>\n",
       "      <td>0.02234</td>\n",
       "      <td>3.20796</td>\n",
       "      <td>2.26</td>\n",
       "      <td>0.0853</td>\n",
       "      <td>...</td>\n",
       "      <td>0.430</td>\n",
       "      <td>0.940</td>\n",
       "      <td>-0.00020</td>\n",
       "      <td>-0.00055</td>\n",
       "      <td>-0.010</td>\n",
       "      <td>0.200</td>\n",
       "      <td>0.200</td>\n",
       "      <td>0.080</td>\n",
       "      <td>0.310</td>\n",
       "      <td>0.320</td>\n",
       "    </tr>\n",
       "    <tr>\n",
       "      <th>1</th>\n",
       "      <td>K00752.02</td>\n",
       "      <td>1</td>\n",
       "      <td>54.41838</td>\n",
       "      <td>0.586</td>\n",
       "      <td>4.50700</td>\n",
       "      <td>874.8</td>\n",
       "      <td>0.02795</td>\n",
       "      <td>3.02368</td>\n",
       "      <td>2.83</td>\n",
       "      <td>0.2734</td>\n",
       "      <td>...</td>\n",
       "      <td>-0.630</td>\n",
       "      <td>1.230</td>\n",
       "      <td>0.00066</td>\n",
       "      <td>-0.00105</td>\n",
       "      <td>0.390</td>\n",
       "      <td>0.000</td>\n",
       "      <td>0.390</td>\n",
       "      <td>0.490</td>\n",
       "      <td>0.120</td>\n",
       "      <td>0.500</td>\n",
       "    </tr>\n",
       "    <tr>\n",
       "      <th>2</th>\n",
       "      <td>K00754.01</td>\n",
       "      <td>-1</td>\n",
       "      <td>1.73695</td>\n",
       "      <td>1.276</td>\n",
       "      <td>2.40641</td>\n",
       "      <td>8079.2</td>\n",
       "      <td>0.38739</td>\n",
       "      <td>0.22080</td>\n",
       "      <td>33.46</td>\n",
       "      <td>0.0267</td>\n",
       "      <td>...</td>\n",
       "      <td>-0.111</td>\n",
       "      <td>0.002</td>\n",
       "      <td>0.00302</td>\n",
       "      <td>-0.00142</td>\n",
       "      <td>-0.249</td>\n",
       "      <td>0.147</td>\n",
       "      <td>0.289</td>\n",
       "      <td>-0.257</td>\n",
       "      <td>0.099</td>\n",
       "      <td>0.276</td>\n",
       "    </tr>\n",
       "    <tr>\n",
       "      <th>3</th>\n",
       "      <td>K00755.01</td>\n",
       "      <td>1</td>\n",
       "      <td>2.52559</td>\n",
       "      <td>0.701</td>\n",
       "      <td>1.65450</td>\n",
       "      <td>603.3</td>\n",
       "      <td>0.02406</td>\n",
       "      <td>1.98635</td>\n",
       "      <td>2.75</td>\n",
       "      <td>0.0374</td>\n",
       "      <td>...</td>\n",
       "      <td>-0.010</td>\n",
       "      <td>0.230</td>\n",
       "      <td>0.00008</td>\n",
       "      <td>-0.00007</td>\n",
       "      <td>0.030</td>\n",
       "      <td>-0.090</td>\n",
       "      <td>0.100</td>\n",
       "      <td>0.070</td>\n",
       "      <td>0.020</td>\n",
       "      <td>0.070</td>\n",
       "    </tr>\n",
       "    <tr>\n",
       "      <th>4</th>\n",
       "      <td>K00114.01</td>\n",
       "      <td>-1</td>\n",
       "      <td>7.36179</td>\n",
       "      <td>1.169</td>\n",
       "      <td>5.02200</td>\n",
       "      <td>233.7</td>\n",
       "      <td>0.18339</td>\n",
       "      <td>0.00485</td>\n",
       "      <td>39.21</td>\n",
       "      <td>0.0820</td>\n",
       "      <td>...</td>\n",
       "      <td>-13.450</td>\n",
       "      <td>24.090</td>\n",
       "      <td>0.00303</td>\n",
       "      <td>-0.00555</td>\n",
       "      <td>-4.506</td>\n",
       "      <td>7.710</td>\n",
       "      <td>8.930</td>\n",
       "      <td>-4.537</td>\n",
       "      <td>7.713</td>\n",
       "      <td>8.948</td>\n",
       "    </tr>\n",
       "  </tbody>\n",
       "</table>\n",
       "<p>5 rows × 43 columns</p>\n",
       "</div>"
      ],
      "text/plain": [
       "  kepoi_name  koi_disposition  koi_period  koi_impact  koi_duration  \\\n",
       "0  K00752.01                1     9.48804       0.146       2.95750   \n",
       "1  K00752.02                1    54.41838       0.586       4.50700   \n",
       "2  K00754.01               -1     1.73695       1.276       2.40641   \n",
       "3  K00755.01                1     2.52559       0.701       1.65450   \n",
       "4  K00114.01               -1     7.36179       1.169       5.02200   \n",
       "\n",
       "   koi_depth  koi_ror  koi_srho  koi_prad  koi_sma  ...  koi_fwm_srao  \\\n",
       "0      615.8  0.02234   3.20796      2.26   0.0853  ...         0.430   \n",
       "1      874.8  0.02795   3.02368      2.83   0.2734  ...        -0.630   \n",
       "2     8079.2  0.38739   0.22080     33.46   0.0267  ...        -0.111   \n",
       "3      603.3  0.02406   1.98635      2.75   0.0374  ...        -0.010   \n",
       "4      233.7  0.18339   0.00485     39.21   0.0820  ...       -13.450   \n",
       "\n",
       "   koi_fwm_sdeco  koi_fwm_prao  koi_fwm_pdeco  koi_dicco_mra  koi_dicco_mdec  \\\n",
       "0          0.940      -0.00020       -0.00055         -0.010           0.200   \n",
       "1          1.230       0.00066       -0.00105          0.390           0.000   \n",
       "2          0.002       0.00302       -0.00142         -0.249           0.147   \n",
       "3          0.230       0.00008       -0.00007          0.030          -0.090   \n",
       "4         24.090       0.00303       -0.00555         -4.506           7.710   \n",
       "\n",
       "   koi_dicco_msky  koi_dikco_mra  koi_dikco_mdec  koi_dikco_msky  \n",
       "0           0.200          0.080           0.310           0.320  \n",
       "1           0.390          0.490           0.120           0.500  \n",
       "2           0.289         -0.257           0.099           0.276  \n",
       "3           0.100          0.070           0.020           0.070  \n",
       "4           8.930         -4.537           7.713           8.948  \n",
       "\n",
       "[5 rows x 43 columns]"
      ]
     },
     "execution_count": 3,
     "metadata": {},
     "output_type": "execute_result"
    }
   ],
   "source": [
    "df['koi_disposition'].replace({'CONFIRMED': 1, \"FALSE POSITIVE\": -1}, inplace=True)\n",
    "df.head()"
   ]
  },
  {
   "cell_type": "markdown",
   "metadata": {},
   "source": [
    "## 1.2 Atribuição das classes e atributos\n",
    "As classes que são definidas pela coluna `koi_disposition` foram atribuídas à variável y. Já os atributos, que são os restantes das colunas foram atribuídas à X. Como o atributo `kepoi_name`, que é apenas o nome dos KOI, não é um atributo que ajude a decidir se o KOI é um exoplaneta ou não, ele foi removido para não ser considerado pelos algoritmos de classificação."
   ]
  },
  {
   "cell_type": "code",
   "execution_count": 4,
   "metadata": {},
   "outputs": [],
   "source": [
    "y = df['koi_disposition']\n",
    "X = df.drop(['kepoi_name', 'koi_disposition'], axis=1)"
   ]
  },
  {
   "cell_type": "code",
   "execution_count": 5,
   "metadata": {},
   "outputs": [
    {
     "data": {
      "text/plain": [
       "0       1\n",
       "1       1\n",
       "2      -1\n",
       "3       1\n",
       "4      -1\n",
       "       ..\n",
       "5197   -1\n",
       "5198   -1\n",
       "5199   -1\n",
       "5200   -1\n",
       "5201   -1\n",
       "Name: koi_disposition, Length: 5202, dtype: int64"
      ]
     },
     "execution_count": 5,
     "metadata": {},
     "output_type": "execute_result"
    }
   ],
   "source": [
    "y"
   ]
  },
  {
   "cell_type": "code",
   "execution_count": 6,
   "metadata": {},
   "outputs": [
    {
     "data": {
      "text/html": [
       "<div>\n",
       "<style scoped>\n",
       "    .dataframe tbody tr th:only-of-type {\n",
       "        vertical-align: middle;\n",
       "    }\n",
       "\n",
       "    .dataframe tbody tr th {\n",
       "        vertical-align: top;\n",
       "    }\n",
       "\n",
       "    .dataframe thead th {\n",
       "        text-align: right;\n",
       "    }\n",
       "</style>\n",
       "<table border=\"1\" class=\"dataframe\">\n",
       "  <thead>\n",
       "    <tr style=\"text-align: right;\">\n",
       "      <th></th>\n",
       "      <th>koi_period</th>\n",
       "      <th>koi_impact</th>\n",
       "      <th>koi_duration</th>\n",
       "      <th>koi_depth</th>\n",
       "      <th>koi_ror</th>\n",
       "      <th>koi_srho</th>\n",
       "      <th>koi_prad</th>\n",
       "      <th>koi_sma</th>\n",
       "      <th>koi_incl</th>\n",
       "      <th>koi_teq</th>\n",
       "      <th>...</th>\n",
       "      <th>koi_fwm_srao</th>\n",
       "      <th>koi_fwm_sdeco</th>\n",
       "      <th>koi_fwm_prao</th>\n",
       "      <th>koi_fwm_pdeco</th>\n",
       "      <th>koi_dicco_mra</th>\n",
       "      <th>koi_dicco_mdec</th>\n",
       "      <th>koi_dicco_msky</th>\n",
       "      <th>koi_dikco_mra</th>\n",
       "      <th>koi_dikco_mdec</th>\n",
       "      <th>koi_dikco_msky</th>\n",
       "    </tr>\n",
       "  </thead>\n",
       "  <tbody>\n",
       "    <tr>\n",
       "      <th>0</th>\n",
       "      <td>9.48804</td>\n",
       "      <td>0.146</td>\n",
       "      <td>2.95750</td>\n",
       "      <td>615.8</td>\n",
       "      <td>0.02234</td>\n",
       "      <td>3.20796</td>\n",
       "      <td>2.26</td>\n",
       "      <td>0.0853</td>\n",
       "      <td>89.66</td>\n",
       "      <td>793.0</td>\n",
       "      <td>...</td>\n",
       "      <td>0.430</td>\n",
       "      <td>0.940</td>\n",
       "      <td>-0.00020</td>\n",
       "      <td>-0.00055</td>\n",
       "      <td>-0.010</td>\n",
       "      <td>0.200</td>\n",
       "      <td>0.200</td>\n",
       "      <td>0.080</td>\n",
       "      <td>0.310</td>\n",
       "      <td>0.320</td>\n",
       "    </tr>\n",
       "    <tr>\n",
       "      <th>1</th>\n",
       "      <td>54.41838</td>\n",
       "      <td>0.586</td>\n",
       "      <td>4.50700</td>\n",
       "      <td>874.8</td>\n",
       "      <td>0.02795</td>\n",
       "      <td>3.02368</td>\n",
       "      <td>2.83</td>\n",
       "      <td>0.2734</td>\n",
       "      <td>89.57</td>\n",
       "      <td>443.0</td>\n",
       "      <td>...</td>\n",
       "      <td>-0.630</td>\n",
       "      <td>1.230</td>\n",
       "      <td>0.00066</td>\n",
       "      <td>-0.00105</td>\n",
       "      <td>0.390</td>\n",
       "      <td>0.000</td>\n",
       "      <td>0.390</td>\n",
       "      <td>0.490</td>\n",
       "      <td>0.120</td>\n",
       "      <td>0.500</td>\n",
       "    </tr>\n",
       "    <tr>\n",
       "      <th>2</th>\n",
       "      <td>1.73695</td>\n",
       "      <td>1.276</td>\n",
       "      <td>2.40641</td>\n",
       "      <td>8079.2</td>\n",
       "      <td>0.38739</td>\n",
       "      <td>0.22080</td>\n",
       "      <td>33.46</td>\n",
       "      <td>0.0267</td>\n",
       "      <td>67.09</td>\n",
       "      <td>1395.0</td>\n",
       "      <td>...</td>\n",
       "      <td>-0.111</td>\n",
       "      <td>0.002</td>\n",
       "      <td>0.00302</td>\n",
       "      <td>-0.00142</td>\n",
       "      <td>-0.249</td>\n",
       "      <td>0.147</td>\n",
       "      <td>0.289</td>\n",
       "      <td>-0.257</td>\n",
       "      <td>0.099</td>\n",
       "      <td>0.276</td>\n",
       "    </tr>\n",
       "    <tr>\n",
       "      <th>3</th>\n",
       "      <td>2.52559</td>\n",
       "      <td>0.701</td>\n",
       "      <td>1.65450</td>\n",
       "      <td>603.3</td>\n",
       "      <td>0.02406</td>\n",
       "      <td>1.98635</td>\n",
       "      <td>2.75</td>\n",
       "      <td>0.0374</td>\n",
       "      <td>85.41</td>\n",
       "      <td>1406.0</td>\n",
       "      <td>...</td>\n",
       "      <td>-0.010</td>\n",
       "      <td>0.230</td>\n",
       "      <td>0.00008</td>\n",
       "      <td>-0.00007</td>\n",
       "      <td>0.030</td>\n",
       "      <td>-0.090</td>\n",
       "      <td>0.100</td>\n",
       "      <td>0.070</td>\n",
       "      <td>0.020</td>\n",
       "      <td>0.070</td>\n",
       "    </tr>\n",
       "    <tr>\n",
       "      <th>4</th>\n",
       "      <td>7.36179</td>\n",
       "      <td>1.169</td>\n",
       "      <td>5.02200</td>\n",
       "      <td>233.7</td>\n",
       "      <td>0.18339</td>\n",
       "      <td>0.00485</td>\n",
       "      <td>39.21</td>\n",
       "      <td>0.0820</td>\n",
       "      <td>60.92</td>\n",
       "      <td>1342.0</td>\n",
       "      <td>...</td>\n",
       "      <td>-13.450</td>\n",
       "      <td>24.090</td>\n",
       "      <td>0.00303</td>\n",
       "      <td>-0.00555</td>\n",
       "      <td>-4.506</td>\n",
       "      <td>7.710</td>\n",
       "      <td>8.930</td>\n",
       "      <td>-4.537</td>\n",
       "      <td>7.713</td>\n",
       "      <td>8.948</td>\n",
       "    </tr>\n",
       "    <tr>\n",
       "      <th>...</th>\n",
       "      <td>...</td>\n",
       "      <td>...</td>\n",
       "      <td>...</td>\n",
       "      <td>...</td>\n",
       "      <td>...</td>\n",
       "      <td>...</td>\n",
       "      <td>...</td>\n",
       "      <td>...</td>\n",
       "      <td>...</td>\n",
       "      <td>...</td>\n",
       "      <td>...</td>\n",
       "      <td>...</td>\n",
       "      <td>...</td>\n",
       "      <td>...</td>\n",
       "      <td>...</td>\n",
       "      <td>...</td>\n",
       "      <td>...</td>\n",
       "      <td>...</td>\n",
       "      <td>...</td>\n",
       "      <td>...</td>\n",
       "      <td>...</td>\n",
       "    </tr>\n",
       "    <tr>\n",
       "      <th>5197</th>\n",
       "      <td>373.89398</td>\n",
       "      <td>0.963</td>\n",
       "      <td>27.66000</td>\n",
       "      <td>730.0</td>\n",
       "      <td>0.03288</td>\n",
       "      <td>0.00771</td>\n",
       "      <td>2.51</td>\n",
       "      <td>0.8885</td>\n",
       "      <td>88.57</td>\n",
       "      <td>206.0</td>\n",
       "      <td>...</td>\n",
       "      <td>-1.000</td>\n",
       "      <td>-0.300</td>\n",
       "      <td>0.00060</td>\n",
       "      <td>0.00030</td>\n",
       "      <td>2.360</td>\n",
       "      <td>-0.990</td>\n",
       "      <td>2.550</td>\n",
       "      <td>2.370</td>\n",
       "      <td>-0.910</td>\n",
       "      <td>2.540</td>\n",
       "    </tr>\n",
       "    <tr>\n",
       "      <th>5198</th>\n",
       "      <td>8.58987</td>\n",
       "      <td>0.765</td>\n",
       "      <td>4.80600</td>\n",
       "      <td>87.7</td>\n",
       "      <td>0.00936</td>\n",
       "      <td>0.18863</td>\n",
       "      <td>1.11</td>\n",
       "      <td>0.0779</td>\n",
       "      <td>85.14</td>\n",
       "      <td>929.0</td>\n",
       "      <td>...</td>\n",
       "      <td>1.100</td>\n",
       "      <td>1.200</td>\n",
       "      <td>-0.00008</td>\n",
       "      <td>-0.00010</td>\n",
       "      <td>1.260</td>\n",
       "      <td>-1.200</td>\n",
       "      <td>1.750</td>\n",
       "      <td>1.350</td>\n",
       "      <td>-1.300</td>\n",
       "      <td>1.840</td>\n",
       "    </tr>\n",
       "    <tr>\n",
       "      <th>5199</th>\n",
       "      <td>0.52770</td>\n",
       "      <td>1.252</td>\n",
       "      <td>3.22210</td>\n",
       "      <td>1579.2</td>\n",
       "      <td>0.29763</td>\n",
       "      <td>0.16318</td>\n",
       "      <td>29.35</td>\n",
       "      <td>0.0128</td>\n",
       "      <td>20.78</td>\n",
       "      <td>2088.0</td>\n",
       "      <td>...</td>\n",
       "      <td>0.792</td>\n",
       "      <td>-0.484</td>\n",
       "      <td>-0.00024</td>\n",
       "      <td>0.00018</td>\n",
       "      <td>2.132</td>\n",
       "      <td>-1.757</td>\n",
       "      <td>2.763</td>\n",
       "      <td>2.344</td>\n",
       "      <td>-1.756</td>\n",
       "      <td>2.929</td>\n",
       "    </tr>\n",
       "    <tr>\n",
       "      <th>5200</th>\n",
       "      <td>0.68140</td>\n",
       "      <td>0.147</td>\n",
       "      <td>0.86500</td>\n",
       "      <td>103.6</td>\n",
       "      <td>0.00944</td>\n",
       "      <td>8.97692</td>\n",
       "      <td>1.07</td>\n",
       "      <td>0.0157</td>\n",
       "      <td>88.60</td>\n",
       "      <td>2218.0</td>\n",
       "      <td>...</td>\n",
       "      <td>7.200</td>\n",
       "      <td>-5.600</td>\n",
       "      <td>-0.00072</td>\n",
       "      <td>0.00050</td>\n",
       "      <td>3.410</td>\n",
       "      <td>-3.650</td>\n",
       "      <td>5.000</td>\n",
       "      <td>3.380</td>\n",
       "      <td>-3.890</td>\n",
       "      <td>5.160</td>\n",
       "    </tr>\n",
       "    <tr>\n",
       "      <th>5201</th>\n",
       "      <td>4.85603</td>\n",
       "      <td>0.134</td>\n",
       "      <td>3.07800</td>\n",
       "      <td>76.7</td>\n",
       "      <td>0.00808</td>\n",
       "      <td>1.40645</td>\n",
       "      <td>1.05</td>\n",
       "      <td>0.0606</td>\n",
       "      <td>89.36</td>\n",
       "      <td>1266.0</td>\n",
       "      <td>...</td>\n",
       "      <td>2.900</td>\n",
       "      <td>8.900</td>\n",
       "      <td>-0.00023</td>\n",
       "      <td>-0.00070</td>\n",
       "      <td>1.020</td>\n",
       "      <td>3.300</td>\n",
       "      <td>3.400</td>\n",
       "      <td>0.960</td>\n",
       "      <td>3.400</td>\n",
       "      <td>3.500</td>\n",
       "    </tr>\n",
       "  </tbody>\n",
       "</table>\n",
       "<p>5202 rows × 41 columns</p>\n",
       "</div>"
      ],
      "text/plain": [
       "      koi_period  koi_impact  koi_duration  koi_depth  koi_ror  koi_srho  \\\n",
       "0        9.48804       0.146       2.95750      615.8  0.02234   3.20796   \n",
       "1       54.41838       0.586       4.50700      874.8  0.02795   3.02368   \n",
       "2        1.73695       1.276       2.40641     8079.2  0.38739   0.22080   \n",
       "3        2.52559       0.701       1.65450      603.3  0.02406   1.98635   \n",
       "4        7.36179       1.169       5.02200      233.7  0.18339   0.00485   \n",
       "...          ...         ...           ...        ...      ...       ...   \n",
       "5197   373.89398       0.963      27.66000      730.0  0.03288   0.00771   \n",
       "5198     8.58987       0.765       4.80600       87.7  0.00936   0.18863   \n",
       "5199     0.52770       1.252       3.22210     1579.2  0.29763   0.16318   \n",
       "5200     0.68140       0.147       0.86500      103.6  0.00944   8.97692   \n",
       "5201     4.85603       0.134       3.07800       76.7  0.00808   1.40645   \n",
       "\n",
       "      koi_prad  koi_sma  koi_incl  koi_teq  ...  koi_fwm_srao  koi_fwm_sdeco  \\\n",
       "0         2.26   0.0853     89.66    793.0  ...         0.430          0.940   \n",
       "1         2.83   0.2734     89.57    443.0  ...        -0.630          1.230   \n",
       "2        33.46   0.0267     67.09   1395.0  ...        -0.111          0.002   \n",
       "3         2.75   0.0374     85.41   1406.0  ...        -0.010          0.230   \n",
       "4        39.21   0.0820     60.92   1342.0  ...       -13.450         24.090   \n",
       "...        ...      ...       ...      ...  ...           ...            ...   \n",
       "5197      2.51   0.8885     88.57    206.0  ...        -1.000         -0.300   \n",
       "5198      1.11   0.0779     85.14    929.0  ...         1.100          1.200   \n",
       "5199     29.35   0.0128     20.78   2088.0  ...         0.792         -0.484   \n",
       "5200      1.07   0.0157     88.60   2218.0  ...         7.200         -5.600   \n",
       "5201      1.05   0.0606     89.36   1266.0  ...         2.900          8.900   \n",
       "\n",
       "      koi_fwm_prao  koi_fwm_pdeco  koi_dicco_mra  koi_dicco_mdec  \\\n",
       "0         -0.00020       -0.00055         -0.010           0.200   \n",
       "1          0.00066       -0.00105          0.390           0.000   \n",
       "2          0.00302       -0.00142         -0.249           0.147   \n",
       "3          0.00008       -0.00007          0.030          -0.090   \n",
       "4          0.00303       -0.00555         -4.506           7.710   \n",
       "...            ...            ...            ...             ...   \n",
       "5197       0.00060        0.00030          2.360          -0.990   \n",
       "5198      -0.00008       -0.00010          1.260          -1.200   \n",
       "5199      -0.00024        0.00018          2.132          -1.757   \n",
       "5200      -0.00072        0.00050          3.410          -3.650   \n",
       "5201      -0.00023       -0.00070          1.020           3.300   \n",
       "\n",
       "      koi_dicco_msky  koi_dikco_mra  koi_dikco_mdec  koi_dikco_msky  \n",
       "0              0.200          0.080           0.310           0.320  \n",
       "1              0.390          0.490           0.120           0.500  \n",
       "2              0.289         -0.257           0.099           0.276  \n",
       "3              0.100          0.070           0.020           0.070  \n",
       "4              8.930         -4.537           7.713           8.948  \n",
       "...              ...            ...             ...             ...  \n",
       "5197           2.550          2.370          -0.910           2.540  \n",
       "5198           1.750          1.350          -1.300           1.840  \n",
       "5199           2.763          2.344          -1.756           2.929  \n",
       "5200           5.000          3.380          -3.890           5.160  \n",
       "5201           3.400          0.960           3.400           3.500  \n",
       "\n",
       "[5202 rows x 41 columns]"
      ]
     },
     "execution_count": 6,
     "metadata": {},
     "output_type": "execute_result"
    }
   ],
   "source": [
    "X"
   ]
  },
  {
   "cell_type": "markdown",
   "metadata": {},
   "source": [
    "## 1.3 Normalização dos dados\n",
    "Foi criado uma variável `X_normalized` que são os atributos de X normalizados. "
   ]
  },
  {
   "cell_type": "code",
   "execution_count": 7,
   "metadata": {},
   "outputs": [],
   "source": [
    "y = y.values\n",
    "X = X.values\n",
    "X_normalized = preprocessing.normalize(X)"
   ]
  },
  {
   "cell_type": "markdown",
   "metadata": {},
   "source": [
    "# 2. Preparo para o treinamento dos modelos"
   ]
  },
  {
   "cell_type": "markdown",
   "metadata": {},
   "source": [
    "## 2.1 Definição do k-fold\n",
    "Os modelos serão treinados usando validação cruzada k-fold com k igual a 5."
   ]
  },
  {
   "cell_type": "code",
   "execution_count": 8,
   "metadata": {},
   "outputs": [
    {
     "name": "stdout",
     "output_type": "stream",
     "text": [
      "Número de splits: 5\n"
     ]
    }
   ],
   "source": [
    "kf = KFold(n_splits=5, shuffle=False)\n",
    "print(\"Número de splits:\", kf.get_n_splits())"
   ]
  },
  {
   "cell_type": "markdown",
   "metadata": {},
   "source": [
    "## 2.2 Definição da função padrão para treinamento de um modelo\n",
    "A função `train_model` treina um modelo passada para ela por parâmetro e retorna as métricas do modelo treinado, sendo essas métricas a acurácia do treino `Train accuracy`, a acurácia da validação `Validation accuracy`, a precisão `Precision` e a revocação `Recall`.\n",
    "\n",
    "Caso o `print_depth` seja True, a função irá printar a altura da árvore treinada pelo modelo (isso será usado mais para frente para ajudar nos experimentos da Decision Tree)."
   ]
  },
  {
   "cell_type": "code",
   "execution_count": 9,
   "metadata": {},
   "outputs": [],
   "source": [
    "def train_model(model, X, y, print_depth=False):\n",
    "#     i = 0\n",
    "    \n",
    "    train_accuracy = []\n",
    "    validation_accuracy = []\n",
    "    precision = []\n",
    "    recall = []\n",
    "    \n",
    "    for train_index, validation_index in kf.split(X):\n",
    "        X_train = X[train_index]\n",
    "        X_validation = X[validation_index]\n",
    "        y_train = y[train_index]\n",
    "        y_validation = y[validation_index]\n",
    "\n",
    "        #Train the model\n",
    "        model.fit(X_train, y_train) #Training the model\n",
    "        \n",
    "        if(print_depth):\n",
    "            print(f\"Train height: {model.tree_.max_depth}\")\n",
    "        \n",
    "        #treino\n",
    "        y_pred = model.predict(X_train)\n",
    "        train_accuracy.append(accuracy_score(y_train, y_pred))\n",
    "        \n",
    "        #validação\n",
    "        y_pred = model.predict(X_validation)\n",
    "        \n",
    "        validation_accuracy.append(accuracy_score(y_validation, y_pred))\n",
    "        precision.append(precision_score(y_validation, y_pred))\n",
    "        recall.append(recall_score(y_validation, y_pred))\n",
    "        \n",
    "        \n",
    "#         print(f\"Accuracy for the fold no.{i} on the test set: {accuracy_score(y_test, y_pred)}\")\n",
    "#         i+=1\n",
    "    \n",
    "    return {\n",
    "        'Train accuracy': np.mean(train_accuracy),\n",
    "        'Validation accuracy': np.mean(validation_accuracy),\n",
    "        'Precision': np.mean(precision),\n",
    "        'Recall': np.mean(recall)\n",
    "    }"
   ]
  },
  {
   "cell_type": "markdown",
   "metadata": {},
   "source": [
    "## 2.3 Criação da tabela de métricas\n",
    "A medida que os experimentos forem sendo feitos, essa tabela será atualizada com os valores de métricas encontrada em cada um dos modelos"
   ]
  },
  {
   "cell_type": "code",
   "execution_count": 10,
   "metadata": {},
   "outputs": [
    {
     "data": {
      "text/html": [
       "<div>\n",
       "<style scoped>\n",
       "    .dataframe tbody tr th:only-of-type {\n",
       "        vertical-align: middle;\n",
       "    }\n",
       "\n",
       "    .dataframe tbody tr th {\n",
       "        vertical-align: top;\n",
       "    }\n",
       "\n",
       "    .dataframe thead th {\n",
       "        text-align: right;\n",
       "    }\n",
       "</style>\n",
       "<table border=\"1\" class=\"dataframe\">\n",
       "  <thead>\n",
       "    <tr style=\"text-align: right;\">\n",
       "      <th></th>\n",
       "      <th>Train accuracy</th>\n",
       "      <th>Validation accuracy</th>\n",
       "      <th>Precision</th>\n",
       "      <th>Recall</th>\n",
       "    </tr>\n",
       "  </thead>\n",
       "  <tbody>\n",
       "    <tr>\n",
       "      <th>Naive Bayes</th>\n",
       "      <td>NaN</td>\n",
       "      <td>NaN</td>\n",
       "      <td>NaN</td>\n",
       "      <td>NaN</td>\n",
       "    </tr>\n",
       "    <tr>\n",
       "      <th>Decision Tree</th>\n",
       "      <td>NaN</td>\n",
       "      <td>NaN</td>\n",
       "      <td>NaN</td>\n",
       "      <td>NaN</td>\n",
       "    </tr>\n",
       "    <tr>\n",
       "      <th>SVM</th>\n",
       "      <td>NaN</td>\n",
       "      <td>NaN</td>\n",
       "      <td>NaN</td>\n",
       "      <td>NaN</td>\n",
       "    </tr>\n",
       "    <tr>\n",
       "      <th>k-NN</th>\n",
       "      <td>NaN</td>\n",
       "      <td>NaN</td>\n",
       "      <td>NaN</td>\n",
       "      <td>NaN</td>\n",
       "    </tr>\n",
       "    <tr>\n",
       "      <th>Random Forest</th>\n",
       "      <td>NaN</td>\n",
       "      <td>NaN</td>\n",
       "      <td>NaN</td>\n",
       "      <td>NaN</td>\n",
       "    </tr>\n",
       "    <tr>\n",
       "      <th>Gradient Tree Boosting</th>\n",
       "      <td>NaN</td>\n",
       "      <td>NaN</td>\n",
       "      <td>NaN</td>\n",
       "      <td>NaN</td>\n",
       "    </tr>\n",
       "  </tbody>\n",
       "</table>\n",
       "</div>"
      ],
      "text/plain": [
       "                       Train accuracy Validation accuracy Precision Recall\n",
       "Naive Bayes                       NaN                 NaN       NaN    NaN\n",
       "Decision Tree                     NaN                 NaN       NaN    NaN\n",
       "SVM                               NaN                 NaN       NaN    NaN\n",
       "k-NN                              NaN                 NaN       NaN    NaN\n",
       "Random Forest                     NaN                 NaN       NaN    NaN\n",
       "Gradient Tree Boosting            NaN                 NaN       NaN    NaN"
      ]
     },
     "execution_count": 10,
     "metadata": {},
     "output_type": "execute_result"
    }
   ],
   "source": [
    "models = ['Naive Bayes', 'Decision Tree', 'SVM', 'k-NN', 'Random Forest', 'Gradient Tree Boosting']\n",
    "metrics = ['Train accuracy', 'Validation accuracy', 'Precision', 'Recall']\n",
    "\n",
    "df_metrics = pd.DataFrame(index=models, columns=metrics)\n",
    "df_metrics"
   ]
  },
  {
   "cell_type": "markdown",
   "metadata": {},
   "source": [
    "# 3. Experimentos"
   ]
  },
  {
   "cell_type": "markdown",
   "metadata": {},
   "source": [
    "## 3.1 Naive Bayes\n",
    "Para o naive bayes foi treinado o modelo usando os atributos X originais e os normalizados. Como esperado, o modelo usando os dados normalizados se saiu melhor na classificação."
   ]
  },
  {
   "cell_type": "code",
   "execution_count": 11,
   "metadata": {},
   "outputs": [
    {
     "name": "stdout",
     "output_type": "stream",
     "text": [
      "{'Train accuracy': 0.8000734145963738, 'Validation accuracy': 0.8031251385502106, 'Precision': 0.5518943932875401, 'Recall': 0.9688555756712983}\n"
     ]
    }
   ],
   "source": [
    "naiveBayes = GaussianNB()\n",
    "naiveBayesMetrics = train_model(naiveBayes, X, y)\n",
    "print(naiveBayesMetrics)"
   ]
  },
  {
   "cell_type": "code",
   "execution_count": 12,
   "metadata": {},
   "outputs": [
    {
     "name": "stdout",
     "output_type": "stream",
     "text": [
      "{'Train accuracy': 0.9199341127960936, 'Validation accuracy': 0.918295278208823, 'Precision': 0.6893121412912551, 'Recall': 0.8372146267661484}\n"
     ]
    }
   ],
   "source": [
    "naiveBayesNormalizedMetrics = train_model(naiveBayes, X_normalized, y)\n",
    "print(naiveBayesNormalizedMetrics)"
   ]
  },
  {
   "cell_type": "code",
   "execution_count": 13,
   "metadata": {},
   "outputs": [
    {
     "data": {
      "text/html": [
       "<div>\n",
       "<style scoped>\n",
       "    .dataframe tbody tr th:only-of-type {\n",
       "        vertical-align: middle;\n",
       "    }\n",
       "\n",
       "    .dataframe tbody tr th {\n",
       "        vertical-align: top;\n",
       "    }\n",
       "\n",
       "    .dataframe thead th {\n",
       "        text-align: right;\n",
       "    }\n",
       "</style>\n",
       "<table border=\"1\" class=\"dataframe\">\n",
       "  <thead>\n",
       "    <tr style=\"text-align: right;\">\n",
       "      <th></th>\n",
       "      <th>Train accuracy</th>\n",
       "      <th>Validation accuracy</th>\n",
       "      <th>Precision</th>\n",
       "      <th>Recall</th>\n",
       "    </tr>\n",
       "  </thead>\n",
       "  <tbody>\n",
       "    <tr>\n",
       "      <th>Naive Bayes</th>\n",
       "      <td>0.919934</td>\n",
       "      <td>0.918295</td>\n",
       "      <td>0.689312</td>\n",
       "      <td>0.837215</td>\n",
       "    </tr>\n",
       "    <tr>\n",
       "      <th>Decision Tree</th>\n",
       "      <td>NaN</td>\n",
       "      <td>NaN</td>\n",
       "      <td>NaN</td>\n",
       "      <td>NaN</td>\n",
       "    </tr>\n",
       "    <tr>\n",
       "      <th>SVM</th>\n",
       "      <td>NaN</td>\n",
       "      <td>NaN</td>\n",
       "      <td>NaN</td>\n",
       "      <td>NaN</td>\n",
       "    </tr>\n",
       "    <tr>\n",
       "      <th>k-NN</th>\n",
       "      <td>NaN</td>\n",
       "      <td>NaN</td>\n",
       "      <td>NaN</td>\n",
       "      <td>NaN</td>\n",
       "    </tr>\n",
       "    <tr>\n",
       "      <th>Random Forest</th>\n",
       "      <td>NaN</td>\n",
       "      <td>NaN</td>\n",
       "      <td>NaN</td>\n",
       "      <td>NaN</td>\n",
       "    </tr>\n",
       "    <tr>\n",
       "      <th>Gradient Tree Boosting</th>\n",
       "      <td>NaN</td>\n",
       "      <td>NaN</td>\n",
       "      <td>NaN</td>\n",
       "      <td>NaN</td>\n",
       "    </tr>\n",
       "  </tbody>\n",
       "</table>\n",
       "</div>"
      ],
      "text/plain": [
       "                       Train accuracy Validation accuracy Precision    Recall\n",
       "Naive Bayes                  0.919934            0.918295  0.689312  0.837215\n",
       "Decision Tree                     NaN                 NaN       NaN       NaN\n",
       "SVM                               NaN                 NaN       NaN       NaN\n",
       "k-NN                              NaN                 NaN       NaN       NaN\n",
       "Random Forest                     NaN                 NaN       NaN       NaN\n",
       "Gradient Tree Boosting            NaN                 NaN       NaN       NaN"
      ]
     },
     "execution_count": 13,
     "metadata": {},
     "output_type": "execute_result"
    }
   ],
   "source": [
    "df_metrics.loc['Naive Bayes'] = naiveBayesNormalizedMetrics\n",
    "df_metrics"
   ]
  },
  {
   "cell_type": "markdown",
   "metadata": {},
   "source": [
    "## 3.2 Decision Tree"
   ]
  },
  {
   "cell_type": "markdown",
   "metadata": {},
   "source": [
    "### 3.2.1 Altura ilimitada\n",
    "Para iniciar o processo de experimentação com a árvore de decisão, ou Decision Tree, a sua altura máxima foi determinada como `None`, com isso, a árvore resultante possui todas as folhas puras ou foi impossibilitada de fazer mais splits, sem uma limitação para a altura. \n",
    "\n",
    "Para treinar o modelo dessa árvore é passado `True` para o parâmetro `print_depth` da função `train_model` para que possamos saber quais alturas a árvore está atingindo nos treinamentos."
   ]
  },
  {
   "cell_type": "code",
   "execution_count": 14,
   "metadata": {},
   "outputs": [
    {
     "name": "stdout",
     "output_type": "stream",
     "text": [
      "Training model with height unlimited\n",
      "Train height: 23\n",
      "Train height: 21\n",
      "Train height: 25\n",
      "Train height: 27\n",
      "Train height: 24\n"
     ]
    }
   ],
   "source": [
    "print(\"Training model with height unlimited\")\n",
    "decisionTree = DecisionTreeClassifier(max_depth=None)\n",
    "unlimitedTreeMetrics = train_model(decisionTree, X_normalized, y, True)"
   ]
  },
  {
   "cell_type": "code",
   "execution_count": 15,
   "metadata": {},
   "outputs": [
    {
     "name": "stdout",
     "output_type": "stream",
     "text": [
      "{'Train accuracy': 1.0, 'Validation accuracy': 0.9334899874381142, 'Precision': 0.725776912840132, 'Recall': 0.8289009223826623}\n"
     ]
    }
   ],
   "source": [
    "print(unlimitedTreeMetrics)"
   ]
  },
  {
   "cell_type": "markdown",
   "metadata": {},
   "source": [
    "### 3.2.2 Altura definida\n",
    "Já que a altura máxima atingida no treino foi de 27, ao treinar a árvore com a altura máxima definida, foi definido um range de 2 a 27, já que não fará muito sentido buscar uma altura maior que essa.\n",
    "\n",
    "As métricas de cada árvore resultante do treinamento dos modelos foram guardadas em um dict `tree_metrics`."
   ]
  },
  {
   "cell_type": "code",
   "execution_count": 16,
   "metadata": {
    "scrolled": true
   },
   "outputs": [
    {
     "name": "stdout",
     "output_type": "stream",
     "text": [
      "Training model with height 2\n",
      "Training model with height 3\n",
      "Training model with height 4\n",
      "Training model with height 5\n",
      "Training model with height 6\n",
      "Training model with height 7\n",
      "Training model with height 8\n",
      "Training model with height 9\n",
      "Training model with height 10\n",
      "Training model with height 11\n",
      "Training model with height 12\n",
      "Training model with height 13\n",
      "Training model with height 14\n",
      "Training model with height 15\n",
      "Training model with height 16\n",
      "Training model with height 17\n",
      "Training model with height 18\n",
      "Training model with height 19\n",
      "Training model with height 20\n",
      "Training model with height 21\n",
      "Training model with height 22\n",
      "Training model with height 23\n",
      "Training model with height 24\n",
      "Training model with height 25\n",
      "Training model with height 26\n",
      "Training completed!\n"
     ]
    }
   ],
   "source": [
    "tree_metrics = dict()\n",
    "for h in range(2,27):\n",
    "    print(f\"Training model with height {h}\")\n",
    "    decisionTree = DecisionTreeClassifier(max_depth=h)\n",
    "    tree_metrics[h] = train_model(decisionTree, X_normalized, y)\n",
    "\n",
    "print(\"Training completed!\")"
   ]
  },
  {
   "cell_type": "markdown",
   "metadata": {},
   "source": [
    "### 3.2.3 Gráfico das diferentes árvores de decisão\n",
    "Com as métricas de cada árvore, foi criado um gráfico comparando os valores da acurácia de treino e validação dada as alturas das árvores. \n",
    "\n",
    "Perceba que em um momento os valores da acurácia de treino chegam a 1.0, mas as acurácias de validação aumentam até certo ponto e ficam mais ou menos estáveis perto de 0.94. Isso acontece porque a medida que aumentamos a altura da árvore ela vai ficando mais específica, e, assim, vai decorando os dados de treino, de forma a acertá-los sempre. Entretanto, como os dados de treino não representam todos os dados, essa \"decoreba\" não vai ajudar a ter uma classificação dos dados como um todo. Perceba que inclusive, mesma a validação permanecendo estável, ela aparenta uma tendência de decrescimento bem leve, provavelmente devido a essa alta especificidade do modelo."
   ]
  },
  {
   "cell_type": "code",
   "execution_count": 17,
   "metadata": {},
   "outputs": [
    {
     "data": {
      "image/png": "[encoded data removed]",
      "text/plain": [
       "<Figure size 432x288 with 1 Axes>"
      ]
     },
     "metadata": {
      "needs_background": "light"
     },
     "output_type": "display_data"
    }
   ],
   "source": [
    "plt_x = tree_metrics.keys()\n",
    "plt_train_accuracy = [metric['Train accuracy'] for metric in tree_metrics.values()]\n",
    "plt_validation_accuracy  = [metric['Validation accuracy'] for metric in tree_metrics.values()]\n",
    "\n",
    "plt.title(\"Decision Tree Max Depth Variation\")\n",
    "plt.xlabel(\"Heights\")\n",
    "plt.ylabel(\"Accuracy\")\n",
    "\n",
    "plt.plot(plt_x, plt_train_accuracy, label='Train')\n",
    "plt.plot(plt_x, plt_validation_accuracy, label='Validation')\n",
    "\n",
    "plt.legend()\n",
    "plt.show()"
   ]
  },
  {
   "cell_type": "markdown",
   "metadata": {},
   "source": [
    "### 3.2.4 Escolhendo o melhor modelo\n",
    "Pelo gráfico, podemos perceber que perto da altura 6 ou 7 é quando a árvore atinge o ponto de equilíbrio da validação. Pelos valores das métricas dessas duas alturas, podemos ver que na altura 6 a acurácia de validação, a precisão e o recall são um pouco melhores, logo guardaremos esses valores na tabela final dos experimentos. "
   ]
  },
  {
   "cell_type": "code",
   "execution_count": 18,
   "metadata": {},
   "outputs": [
    {
     "name": "stdout",
     "output_type": "stream",
     "text": [
      "{'Train accuracy': 0.9721742511670749, 'Validation accuracy': 0.9398333702800562, 'Precision': 0.7312508497005207, 'Recall': 0.8404770484387999}\n"
     ]
    }
   ],
   "source": [
    "print(tree_metrics[6])"
   ]
  },
  {
   "cell_type": "code",
   "execution_count": 19,
   "metadata": {},
   "outputs": [
    {
     "name": "stdout",
     "output_type": "stream",
     "text": [
      "{'Train accuracy': 0.9787101943506216, 'Validation accuracy': 0.9382943545407523, 'Precision': 0.7299905797177988, 'Recall': 0.8278515961305987}\n"
     ]
    }
   ],
   "source": [
    "print(tree_metrics[7])"
   ]
  },
  {
   "cell_type": "code",
   "execution_count": 20,
   "metadata": {},
   "outputs": [
    {
     "data": {
      "text/html": [
       "<div>\n",
       "<style scoped>\n",
       "    .dataframe tbody tr th:only-of-type {\n",
       "        vertical-align: middle;\n",
       "    }\n",
       "\n",
       "    .dataframe tbody tr th {\n",
       "        vertical-align: top;\n",
       "    }\n",
       "\n",
       "    .dataframe thead th {\n",
       "        text-align: right;\n",
       "    }\n",
       "</style>\n",
       "<table border=\"1\" class=\"dataframe\">\n",
       "  <thead>\n",
       "    <tr style=\"text-align: right;\">\n",
       "      <th></th>\n",
       "      <th>Train accuracy</th>\n",
       "      <th>Validation accuracy</th>\n",
       "      <th>Precision</th>\n",
       "      <th>Recall</th>\n",
       "    </tr>\n",
       "  </thead>\n",
       "  <tbody>\n",
       "    <tr>\n",
       "      <th>Naive Bayes</th>\n",
       "      <td>0.919934</td>\n",
       "      <td>0.918295</td>\n",
       "      <td>0.689312</td>\n",
       "      <td>0.837215</td>\n",
       "    </tr>\n",
       "    <tr>\n",
       "      <th>Decision Tree</th>\n",
       "      <td>0.972174</td>\n",
       "      <td>0.939833</td>\n",
       "      <td>0.731251</td>\n",
       "      <td>0.840477</td>\n",
       "    </tr>\n",
       "    <tr>\n",
       "      <th>SVM</th>\n",
       "      <td>NaN</td>\n",
       "      <td>NaN</td>\n",
       "      <td>NaN</td>\n",
       "      <td>NaN</td>\n",
       "    </tr>\n",
       "    <tr>\n",
       "      <th>k-NN</th>\n",
       "      <td>NaN</td>\n",
       "      <td>NaN</td>\n",
       "      <td>NaN</td>\n",
       "      <td>NaN</td>\n",
       "    </tr>\n",
       "    <tr>\n",
       "      <th>Random Forest</th>\n",
       "      <td>NaN</td>\n",
       "      <td>NaN</td>\n",
       "      <td>NaN</td>\n",
       "      <td>NaN</td>\n",
       "    </tr>\n",
       "    <tr>\n",
       "      <th>Gradient Tree Boosting</th>\n",
       "      <td>NaN</td>\n",
       "      <td>NaN</td>\n",
       "      <td>NaN</td>\n",
       "      <td>NaN</td>\n",
       "    </tr>\n",
       "  </tbody>\n",
       "</table>\n",
       "</div>"
      ],
      "text/plain": [
       "                       Train accuracy Validation accuracy Precision    Recall\n",
       "Naive Bayes                  0.919934            0.918295  0.689312  0.837215\n",
       "Decision Tree                0.972174            0.939833  0.731251  0.840477\n",
       "SVM                               NaN                 NaN       NaN       NaN\n",
       "k-NN                              NaN                 NaN       NaN       NaN\n",
       "Random Forest                     NaN                 NaN       NaN       NaN\n",
       "Gradient Tree Boosting            NaN                 NaN       NaN       NaN"
      ]
     },
     "execution_count": 20,
     "metadata": {},
     "output_type": "execute_result"
    }
   ],
   "source": [
    "df_metrics.loc['Decision Tree'] = tree_metrics[6]\n",
    "df_metrics"
   ]
  },
  {
   "cell_type": "markdown",
   "metadata": {},
   "source": [
    "## 3.3 SVM"
   ]
  },
  {
   "cell_type": "markdown",
   "metadata": {},
   "source": [
    "### 3.3.1 Treinamento do SVM\n",
    "Para os experimentos com o SVM (Support Vector Machine) o tipo de kernel variou entre Linear, Sigmoid, Polinomial ou RBF."
   ]
  },
  {
   "cell_type": "code",
   "execution_count": 23,
   "metadata": {
    "scrolled": false
   },
   "outputs": [
    {
     "name": "stdout",
     "output_type": "stream",
     "text": [
      "Training model with kernel linear\n",
      "Training model with kernel sigmoid\n"
     ]
    },
    {
     "name": "stderr",
     "output_type": "stream",
     "text": [
      "C:\\ProgramData\\Anaconda3\\lib\\site-packages\\sklearn\\metrics\\_classification.py:1221: UndefinedMetricWarning: Precision is ill-defined and being set to 0.0 due to no predicted samples. Use `zero_division` parameter to control this behavior.\n",
      "  _warn_prf(average, modifier, msg_start, len(result))\n",
      "C:\\ProgramData\\Anaconda3\\lib\\site-packages\\sklearn\\metrics\\_classification.py:1221: UndefinedMetricWarning: Precision is ill-defined and being set to 0.0 due to no predicted samples. Use `zero_division` parameter to control this behavior.\n",
      "  _warn_prf(average, modifier, msg_start, len(result))\n"
     ]
    },
    {
     "name": "stdout",
     "output_type": "stream",
     "text": [
      "Training model with kernel poly\n"
     ]
    },
    {
     "name": "stderr",
     "output_type": "stream",
     "text": [
      "C:\\ProgramData\\Anaconda3\\lib\\site-packages\\sklearn\\metrics\\_classification.py:1221: UndefinedMetricWarning: Precision is ill-defined and being set to 0.0 due to no predicted samples. Use `zero_division` parameter to control this behavior.\n",
      "  _warn_prf(average, modifier, msg_start, len(result))\n",
      "C:\\ProgramData\\Anaconda3\\lib\\site-packages\\sklearn\\metrics\\_classification.py:1221: UndefinedMetricWarning: Precision is ill-defined and being set to 0.0 due to no predicted samples. Use `zero_division` parameter to control this behavior.\n",
      "  _warn_prf(average, modifier, msg_start, len(result))\n",
      "C:\\ProgramData\\Anaconda3\\lib\\site-packages\\sklearn\\metrics\\_classification.py:1221: UndefinedMetricWarning: Precision is ill-defined and being set to 0.0 due to no predicted samples. Use `zero_division` parameter to control this behavior.\n",
      "  _warn_prf(average, modifier, msg_start, len(result))\n",
      "C:\\ProgramData\\Anaconda3\\lib\\site-packages\\sklearn\\metrics\\_classification.py:1221: UndefinedMetricWarning: Precision is ill-defined and being set to 0.0 due to no predicted samples. Use `zero_division` parameter to control this behavior.\n",
      "  _warn_prf(average, modifier, msg_start, len(result))\n"
     ]
    },
    {
     "name": "stdout",
     "output_type": "stream",
     "text": [
      "Training model with kernel rbf\n"
     ]
    },
    {
     "name": "stderr",
     "output_type": "stream",
     "text": [
      "C:\\ProgramData\\Anaconda3\\lib\\site-packages\\sklearn\\metrics\\_classification.py:1221: UndefinedMetricWarning: Precision is ill-defined and being set to 0.0 due to no predicted samples. Use `zero_division` parameter to control this behavior.\n",
      "  _warn_prf(average, modifier, msg_start, len(result))\n",
      "C:\\ProgramData\\Anaconda3\\lib\\site-packages\\sklearn\\metrics\\_classification.py:1221: UndefinedMetricWarning: Precision is ill-defined and being set to 0.0 due to no predicted samples. Use `zero_division` parameter to control this behavior.\n",
      "  _warn_prf(average, modifier, msg_start, len(result))\n"
     ]
    },
    {
     "name": "stdout",
     "output_type": "stream",
     "text": [
      "Training completed!\n"
     ]
    }
   ],
   "source": [
    "svm_metrics = dict()\n",
    "kernels = ['linear', 'sigmoid', 'poly', 'rbf']\n",
    "df_svm = pd.DataFrame(index=kernels, columns=metrics)\n",
    "\n",
    "for k in kernels:\n",
    "    print(f\"Training model with kernel {k}\")\n",
    "    svm = SVC(kernel=k, gamma='auto', probability=True)\n",
    "    df_svm.loc[k] = train_model(svm, X_normalized, y)\n",
    "    \n",
    "print(\"Training completed!\")"
   ]
  },
  {
   "cell_type": "markdown",
   "metadata": {},
   "source": [
    "### 3.3.2 Escolhendo o melhor modelo\n",
    "Ao verificarmos as métricas dos modelos treinados pelo SVM podemos perceber que o modelo linear se sai melhor que os outros já que seus valores de acurácia, precisão e recal são maiores. Além disso é interessante perceber que a acurácia do treino e da validação são parecidas, demonstrando que o modelo não está apenas decorando os dados de treino mas realmente aprendendo os dados. \n",
    "\n",
    "Por o melhor modelo ser o linear, podemos supor que os dados se aproximam de uma separação linear, mas provavelmente tem alguns outsiders que fazem com que a acurácia e a precisão não seja mais alta como dos modelos treinados até então com os outros algoritmos"
   ]
  },
  {
   "cell_type": "code",
   "execution_count": 24,
   "metadata": {},
   "outputs": [
    {
     "data": {
      "text/html": [
       "<div>\n",
       "<style scoped>\n",
       "    .dataframe tbody tr th:only-of-type {\n",
       "        vertical-align: middle;\n",
       "    }\n",
       "\n",
       "    .dataframe tbody tr th {\n",
       "        vertical-align: top;\n",
       "    }\n",
       "\n",
       "    .dataframe thead th {\n",
       "        text-align: right;\n",
       "    }\n",
       "</style>\n",
       "<table border=\"1\" class=\"dataframe\">\n",
       "  <thead>\n",
       "    <tr style=\"text-align: right;\">\n",
       "      <th></th>\n",
       "      <th>Train accuracy</th>\n",
       "      <th>Validation accuracy</th>\n",
       "      <th>Precision</th>\n",
       "      <th>Recall</th>\n",
       "    </tr>\n",
       "  </thead>\n",
       "  <tbody>\n",
       "    <tr>\n",
       "      <th>linear</th>\n",
       "      <td>0.749327</td>\n",
       "      <td>0.728544</td>\n",
       "      <td>0.522437</td>\n",
       "      <td>0.897743</td>\n",
       "    </tr>\n",
       "    <tr>\n",
       "      <th>sigmoid</th>\n",
       "      <td>0.698143</td>\n",
       "      <td>0.494125</td>\n",
       "      <td>0.167379</td>\n",
       "      <td>0.57262</td>\n",
       "    </tr>\n",
       "    <tr>\n",
       "      <th>poly</th>\n",
       "      <td>0.597566</td>\n",
       "      <td>0.396433</td>\n",
       "      <td>0.000384615</td>\n",
       "      <td>0.2</td>\n",
       "    </tr>\n",
       "    <tr>\n",
       "      <th>rbf</th>\n",
       "      <td>0.70415</td>\n",
       "      <td>0.505471</td>\n",
       "      <td>0.171406</td>\n",
       "      <td>0.563849</td>\n",
       "    </tr>\n",
       "  </tbody>\n",
       "</table>\n",
       "</div>"
      ],
      "text/plain": [
       "        Train accuracy Validation accuracy    Precision    Recall\n",
       "linear        0.749327            0.728544     0.522437  0.897743\n",
       "sigmoid       0.698143            0.494125     0.167379   0.57262\n",
       "poly          0.597566            0.396433  0.000384615       0.2\n",
       "rbf            0.70415            0.505471     0.171406  0.563849"
      ]
     },
     "execution_count": 24,
     "metadata": {},
     "output_type": "execute_result"
    }
   ],
   "source": [
    "df_svm"
   ]
  },
  {
   "cell_type": "code",
   "execution_count": null,
   "metadata": {},
   "outputs": [],
   "source": [
    "df_metrics.loc['Decision Tree'] = tree_metrics[6]\n",
    "df_metrics"
   ]
  },
  {
   "cell_type": "markdown",
   "metadata": {},
   "source": [
    "## 3.4 k-NN"
   ]
  },
  {
   "cell_type": "markdown",
   "metadata": {},
   "source": [
    "## 3.5 Random Forest"
   ]
  },
  {
   "cell_type": "markdown",
   "metadata": {},
   "source": [
    "## 3.6 Gradient Tree Boosting"
   ]
  },
  {
   "cell_type": "code",
   "execution_count": null,
   "metadata": {},
   "outputs": [],
   "source": []
  }
 ],
 "metadata": {
  "kernelspec": {
   "display_name": "Python 3",
   "language": "python",
   "name": "python3"
  },
  "language_info": {
   "codemirror_mode": {
    "name": "ipython",
    "version": 3
   },
   "file_extension": ".py",
   "mimetype": "text/x-python",
   "name": "python",
   "nbconvert_exporter": "python",
   "pygments_lexer": "ipython3",
   "version": "3.8.5"
  }
 },
 "nbformat": 4,
 "nbformat_minor": 4
}
